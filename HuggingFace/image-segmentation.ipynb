{
 "cells": [
  {
   "cell_type": "code",
   "execution_count": 1,
   "metadata": {},
   "outputs": [],
   "source": [
    "url = 'https://images.unsplash.com/photo-1444212477490-ca407925329e?ixlib=rb-4.0.3&ixid=MnwxMjA3fDB8MHxwaG90by1wYWdlfHx8fGVufDB8fHx8&auto=format&fit=crop&w=928&q=80'"
   ]
  },
  {
   "cell_type": "code",
   "execution_count": null,
   "metadata": {},
   "outputs": [],
   "source": [
    "import requests\n",
    "from PIL import Image\n",
    "\n",
    "image = Image.open(requests.get(url, stream=True).raw)\n",
    "image.save('./cache/dogs.jpg')"
   ]
  },
  {
   "attachments": {},
   "cell_type": "markdown",
   "metadata": {},
   "source": [
    "<image src='./cache/dogs.jpg'>"
   ]
  },
  {
   "cell_type": "code",
   "execution_count": 12,
   "metadata": {},
   "outputs": [],
   "source": [
    "image = Image.open('./cache/dogs.jpg')"
   ]
  },
  {
   "cell_type": "code",
   "execution_count": 9,
   "metadata": {},
   "outputs": [
    {
     "name": "stderr",
     "output_type": "stream",
     "text": [
      "Could not find image processor class in the image processor config or the model config. Loading based on pattern matching with the model's feature extractor configuration.\n"
     ]
    }
   ],
   "source": [
    "from transformers import pipeline\n",
    "\n",
    "\n",
    "segmentation = pipeline(task='image-segmentation', model='facebook/detr-resnet-50-panoptic')"
   ]
  },
  {
   "cell_type": "code",
   "execution_count": 10,
   "metadata": {},
   "outputs": [
    {
     "name": "stderr",
     "output_type": "stream",
     "text": [
      "d:\\Image-Models\\img-env\\lib\\site-packages\\transformers\\models\\detr\\image_processing_detr.py:1754: UserWarning: `label_ids_to_fuse` unset. No instance will be fused.\n",
      "  warnings.warn(\"`label_ids_to_fuse` unset. No instance will be fused.\")\n"
     ]
    }
   ],
   "source": [
    "response = segmentation(image)"
   ]
  },
  {
   "cell_type": "code",
   "execution_count": 11,
   "metadata": {},
   "outputs": [
    {
     "data": {
      "text/plain": [
       "[{'score': 0.983177,\n",
       "  'label': 'LABEL_197',\n",
       "  'mask': <PIL.Image.Image image mode=L size=928x580>},\n",
       " {'score': 0.998842,\n",
       "  'label': 'dog',\n",
       "  'mask': <PIL.Image.Image image mode=L size=928x580>},\n",
       " {'score': 0.997538,\n",
       "  'label': 'dog',\n",
       "  'mask': <PIL.Image.Image image mode=L size=928x580>},\n",
       " {'score': 0.982162,\n",
       "  'label': 'gravel',\n",
       "  'mask': <PIL.Image.Image image mode=L size=928x580>},\n",
       " {'score': 0.99764,\n",
       "  'label': 'dog',\n",
       "  'mask': <PIL.Image.Image image mode=L size=928x580>}]"
      ]
     },
     "execution_count": 11,
     "metadata": {},
     "output_type": "execute_result"
    }
   ],
   "source": [
    "response"
   ]
  },
  {
   "cell_type": "code",
   "execution_count": null,
   "metadata": {},
   "outputs": [],
   "source": []
  }
 ],
 "metadata": {
  "kernelspec": {
   "display_name": "img-env",
   "language": "python",
   "name": "python3"
  },
  "language_info": {
   "codemirror_mode": {
    "name": "ipython",
    "version": 3
   },
   "file_extension": ".py",
   "mimetype": "text/x-python",
   "name": "python",
   "nbconvert_exporter": "python",
   "pygments_lexer": "ipython3",
   "version": "3.10.11"
  },
  "orig_nbformat": 4
 },
 "nbformat": 4,
 "nbformat_minor": 2
}
