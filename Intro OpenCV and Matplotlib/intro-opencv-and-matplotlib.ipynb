{
 "cells": [
  {
   "cell_type": "code",
   "execution_count": 35,
   "metadata": {},
   "outputs": [],
   "source": [
    "import pandas as pd\n",
    "import numpy as np\n",
    "import seaborn as sns\n",
    "import matplotlib.pyplot as plt\n",
    "import cv2\n",
    "import pathlib"
   ]
  },
  {
   "attachments": {},
   "cell_type": "markdown",
   "metadata": {},
   "source": [
    "## Loading Cats 😺 & Dogs 🐶"
   ]
  },
  {
   "cell_type": "code",
   "execution_count": 3,
   "metadata": {},
   "outputs": [],
   "source": [
    "data_dir = pathlib.Path('../Datasets/Cats and Dogs/')\n",
    "train_dir = data_dir/'training_set'\n",
    "test_dir = data_dir/'test_set'"
   ]
  },
  {
   "attachments": {},
   "cell_type": "markdown",
   "metadata": {},
   "source": [
    "#### Files"
   ]
  },
  {
   "cell_type": "code",
   "execution_count": 4,
   "metadata": {},
   "outputs": [],
   "source": [
    "train_img=[]\n",
    "for img in train_dir.rglob('*.jpg'):\n",
    "    train_img.append(img)\n",
    "\n",
    "test_img = [img for img in test_dir.rglob('*.jpg')]"
   ]
  },
  {
   "attachments": {},
   "cell_type": "markdown",
   "metadata": {},
   "source": [
    "#### Read the Image"
   ]
  },
  {
   "cell_type": "code",
   "execution_count": 5,
   "metadata": {},
   "outputs": [],
   "source": [
    "plt_read = plt.imread(train_img[0])\n",
    "cv2_read = cv2.imread(str(train_img[0]))"
   ]
  },
  {
   "attachments": {},
   "cell_type": "markdown",
   "metadata": {},
   "source": [
    "#### Inspect the Shape"
   ]
  },
  {
   "cell_type": "code",
   "execution_count": 6,
   "metadata": {},
   "outputs": [
    {
     "data": {
      "text/plain": [
       "((280, 300, 3), (280, 300, 3))"
      ]
     },
     "execution_count": 6,
     "metadata": {},
     "output_type": "execute_result"
    }
   ],
   "source": [
    "plt_read.shape, cv2_read.shape"
   ]
  },
  {
   "attachments": {},
   "cell_type": "markdown",
   "metadata": {},
   "source": [
    "## Understanding an Image"
   ]
  },
  {
   "cell_type": "code",
   "execution_count": 31,
   "metadata": {},
   "outputs": [
    {
     "data": {
      "text/plain": [
       "(200, 150)"
      ]
     },
     "execution_count": 31,
     "metadata": {},
     "output_type": "execute_result"
    }
   ],
   "source": [
    "# lets read in a gray scale image.\n",
    "gray_scale_img = plt.imread('./Grayscale_8bits_palette_sample_image.png')\n",
    "gray_scale_img.shape"
   ]
  },
  {
   "attachments": {},
   "cell_type": "markdown",
   "metadata": {},
   "source": [
    "#### Lets cut out a patch from the image"
   ]
  },
  {
   "cell_type": "code",
   "execution_count": 180,
   "metadata": {},
   "outputs": [],
   "source": [
    "fig,ax = plt.subplots(nrows=1, ncols=2)\n",
    "ax[0].matshow(gray_scale_img, cmap=plt.cm.binary)\n",
    "ax[1].matshow(gray_scale_img[10:50,20:60], cmap=plt.cm.binary);"
   ]
  },
  {
   "attachments": {},
   "cell_type": "markdown",
   "metadata": {},
   "source": [
    "<img src='./plots/parrot-patch-slice.png'>"
   ]
  },
  {
   "cell_type": "code",
   "execution_count": 179,
   "metadata": {},
   "outputs": [],
   "source": [
    "plt.figure(figsize=(20,20))\n",
    "sns.heatmap(gray_scale_img[10:50,20:30], annot=True)"
   ]
  },
  {
   "attachments": {},
   "cell_type": "markdown",
   "metadata": {},
   "source": [
    "<img src='./plots/heatmap-annot-true.png'>"
   ]
  },
  {
   "cell_type": "code",
   "execution_count": 178,
   "metadata": {},
   "outputs": [],
   "source": [
    "(pd.Series(gray_scale_img.flatten(), name='Gray Scale Image')\n",
    "   .plot(kind='hist', figsize=(15,5), title='Distribution', bins=50, edgecolor='k')\n",
    ")"
   ]
  },
  {
   "attachments": {},
   "cell_type": "markdown",
   "metadata": {},
   "source": [
    "<img src='./plots/color-distribution.png'>"
   ]
  },
  {
   "attachments": {},
   "cell_type": "markdown",
   "metadata": {},
   "source": [
    "## Color Images"
   ]
  },
  {
   "cell_type": "code",
   "execution_count": 176,
   "metadata": {},
   "outputs": [],
   "source": [
    "fig, ax = plt.subplots(nrows=1, ncols=3)\n",
    "ax=ax.flatten()\n",
    "color=['Reds','Greens','Blues']\n",
    "for i,frame in enumerate(ax):\n",
    "    frame.imshow(plt_read[:,:,i], cmap=color[i])\n",
    "    frame.set(title=color[i])\n",
    "plt.tight_layout()"
   ]
  },
  {
   "attachments": {},
   "cell_type": "markdown",
   "metadata": {},
   "source": [
    "<img src='./plots/RGB-color-channels.png'>"
   ]
  },
  {
   "attachments": {},
   "cell_type": "markdown",
   "metadata": {},
   "source": [
    "## Differance between Matplotlib and CV2 -- image reading\n",
    "* They read the image in different order\n",
    "* CV2 reads the image in as BGR\n",
    "* Matplotlib reads in the image as RBG"
   ]
  },
  {
   "cell_type": "code",
   "execution_count": 49,
   "metadata": {},
   "outputs": [],
   "source": [
    "# CONVERT BGR TO RBG\n",
    "cv2_rbg = cv2.cvtColor(src=cv2_read, code=cv2.COLOR_BGR2RGB)"
   ]
  },
  {
   "cell_type": "code",
   "execution_count": 175,
   "metadata": {},
   "outputs": [],
   "source": [
    "fig,ax = plt.subplots(nrows=1, ncols=2)\n",
    "ax[0].matshow(cv2_read)\n",
    "ax[0].set(title='BGR')\n",
    "ax[1].matshow(cv2_rbg)\n",
    "ax[1].set(title='RGB')\n",
    "ax[0].axis('off')\n",
    "ax[1].axis('off');"
   ]
  },
  {
   "attachments": {},
   "cell_type": "markdown",
   "metadata": {},
   "source": [
    "<img src='./plots/bgr-to-rbg.png'>"
   ]
  },
  {
   "attachments": {},
   "cell_type": "markdown",
   "metadata": {},
   "source": [
    "## Converting Color Image to Grayscale"
   ]
  },
  {
   "cell_type": "code",
   "execution_count": 56,
   "metadata": {},
   "outputs": [],
   "source": [
    "gray_scale_cat_img = cv2.cvtColor(cv2_read, cv2.COLOR_BGR2GRAY)"
   ]
  },
  {
   "cell_type": "code",
   "execution_count": 174,
   "metadata": {},
   "outputs": [],
   "source": [
    "fig,ax = plt.subplots(nrows=1, ncols=2)\n",
    "ax[0].matshow(cv2_rbg)\n",
    "ax[0].set(title='RBG')\n",
    "ax[1].matshow(gray_scale_cat_img, cmap='Greys')\n",
    "ax[1].set(title='GRAY SCALE')\n",
    "ax[0].axis('off')\n",
    "ax[1].axis('off');"
   ]
  },
  {
   "attachments": {},
   "cell_type": "markdown",
   "metadata": {},
   "source": [
    "<img src='./plots/rbg-to-gray.png'>"
   ]
  },
  {
   "attachments": {},
   "cell_type": "markdown",
   "metadata": {},
   "source": [
    "## Resize and Scale"
   ]
  },
  {
   "cell_type": "code",
   "execution_count": 61,
   "metadata": {},
   "outputs": [],
   "source": [
    "# Resize the image\n",
    "cv2_resize = cv2.resize(src=cv2_read, dsize=None, fx=0.25, fy=0.25) "
   ]
  },
  {
   "cell_type": "code",
   "execution_count": 173,
   "metadata": {},
   "outputs": [],
   "source": [
    "fig,ax = plt.subplots(nrows=1, ncols=2)\n",
    "ax[0].matshow(cv2_read)\n",
    "ax[0].set(title='BGR')\n",
    "ax[1].matshow(cv2_resize)\n",
    "ax[1].set(title='Resized')\n",
    "ax[0].axis('off')\n",
    "ax[1].axis('off')\n",
    "fig.suptitle(t=f'original size:{cv2_read.shape} , resized image:{cv2_resize.shape}');"
   ]
  },
  {
   "attachments": {},
   "cell_type": "markdown",
   "metadata": {},
   "source": [
    "<img src='./plots/bgr-resize.png'>"
   ]
  },
  {
   "attachments": {},
   "cell_type": "markdown",
   "metadata": {},
   "source": [
    "## Upscale an image\n",
    "* When upscaling we can provide an interpolation method\n"
   ]
  },
  {
   "cell_type": "code",
   "execution_count": 69,
   "metadata": {},
   "outputs": [],
   "source": [
    "cv2_upscale = cv2.resize(src=cv2_resize, dsize=(300,300), interpolation=cv2.INTER_CUBIC)"
   ]
  },
  {
   "cell_type": "code",
   "execution_count": 172,
   "metadata": {},
   "outputs": [],
   "source": [
    "fig,ax = plt.subplots(nrows=1, ncols=3)\n",
    "ax[0].matshow(cv2_read)\n",
    "ax[0].set(title='Original image')\n",
    "ax[1].matshow(cv2_resize)\n",
    "ax[1].set(title='Downsized image')\n",
    "ax[2].matshow(cv2_resize)\n",
    "ax[2].set(title='Upscaled image')\n",
    "ax[0].axis('off')\n",
    "ax[1].axis('off')\n",
    "ax[2].axis('off')\n",
    "fig.suptitle(t=f'original size:{cv2_read.shape} , Downsize image:{cv2_resize.shape}, Upsize image:{cv2_upscale.shape}');"
   ]
  },
  {
   "attachments": {},
   "cell_type": "markdown",
   "metadata": {},
   "source": [
    "<img src='./plots/original-downsize-upsize.png'>"
   ]
  },
  {
   "cell_type": "code",
   "execution_count": 149,
   "metadata": {},
   "outputs": [],
   "source": [
    "def plot_util(original, kernel, output, figsize=(10,10)):\n",
    "    fig,ax = plt.subplots(nrows=1, ncols=3, figsize=figsize)\n",
    "    ax[0].matshow(original)\n",
    "    ax[0].set(title='Original image')\n",
    "\n",
    "    ax[1].matshow(kernel, cmap='Set3')\n",
    "    ax[1].set(title='Kernel')\n",
    "    for (i,j),z in np.ndenumerate(kernel):\n",
    "        ax[1].text(x=j, y=i, s=z, ha='center', va='center')\n",
    "\n",
    "    ax[2].matshow(output)\n",
    "    ax[2].set(title='Result')\n",
    "\n",
    "    ax[0].axis('off')\n",
    "    ax[1].axis('off')\n",
    "    ax[2].axis('off')\n",
    "    "
   ]
  },
  {
   "attachments": {},
   "cell_type": "markdown",
   "metadata": {},
   "source": [
    "## Applying Filters | kernels\n",
    "\n",
    "<div style=\"display:flex; justify-content:center; align-items:center;\">\n",
    "<img src='https://upload.wikimedia.org/wikipedia/commons/thumb/1/19/2D_Convolution_Animation.gif/220px-2D_Convolution_Animation.gif' style=\"height:500px; width:500px;\"></div>\n",
    "\n",
    "<h2>Identity</h2>\n",
    "<img src='https://wikimedia.org/api/rest_v1/media/math/render/svg/1fbc763a0af339e3a3ff20af60a8a993c53086a7' style='background-color: coral;'>"
   ]
  },
  {
   "cell_type": "code",
   "execution_count": 130,
   "metadata": {},
   "outputs": [],
   "source": [
    "identity = np.zeros(shape=(3,3))\n",
    "identity[1,1]=1"
   ]
  },
  {
   "cell_type": "code",
   "execution_count": 171,
   "metadata": {},
   "outputs": [],
   "source": [
    "cv2_identity_out = cv2.filter2D(src=cv2_rbg, ddepth=None,kernel=identity)\n",
    "plot_util(cv2_rbg, identity, cv2_identity_out)"
   ]
  },
  {
   "attachments": {},
   "cell_type": "markdown",
   "metadata": {},
   "source": [
    "<img src='./plots/identity.png'>"
   ]
  },
  {
   "attachments": {},
   "cell_type": "markdown",
   "metadata": {},
   "source": [
    "\n",
    "\n",
    "<h2>Ridge</h2>\n",
    "<img src='https://wikimedia.org/api/rest_v1/media/math/render/svg/f9de5913c98629f30efb20b8868e096f202b626c' style='background-color: coral;'>"
   ]
  },
  {
   "cell_type": "code",
   "execution_count": 170,
   "metadata": {},
   "outputs": [],
   "source": [
    "ridge = np.zeros(shape=(3,3))\n",
    "\n",
    "ridge[0,1]=-1\n",
    "ridge[1,0]=-1\n",
    "ridge[1,2]=-1\n",
    "ridge[2,1]=-1\n",
    "ridge[1,1]= 4\n",
    "\n",
    "cv2_ridge_out = cv2.filter2D(src=cv2_rbg, ddepth=None,kernel=ridge)\n",
    "plot_util(cv2_rbg, ridge, cv2_ridge_out, figsize=(15,15))"
   ]
  },
  {
   "attachments": {},
   "cell_type": "markdown",
   "metadata": {},
   "source": [
    "<img src='./plots/ridge.png'>"
   ]
  },
  {
   "attachments": {},
   "cell_type": "markdown",
   "metadata": {},
   "source": [
    "<h2>Edge Detection</h2>\n",
    "<img src='https://wikimedia.org/api/rest_v1/media/math/render/svg/f800ad5f76b6c26c729ff0c1fef44284d7cade7a' style='background-color: coral;'>"
   ]
  },
  {
   "cell_type": "code",
   "execution_count": 143,
   "metadata": {},
   "outputs": [],
   "source": [
    "edge = np.ones(shape=(3,3))*-1\n",
    "edge[1,1]=8"
   ]
  },
  {
   "cell_type": "code",
   "execution_count": 169,
   "metadata": {},
   "outputs": [],
   "source": [
    "cv2_edge_out = cv2.filter2D(src=cv2_rbg, ddepth=None,kernel=edge)\n",
    "plot_util(cv2_rbg, edge, cv2_edge_out, figsize=(15,15))"
   ]
  },
  {
   "attachments": {},
   "cell_type": "markdown",
   "metadata": {},
   "source": [
    "<img src='./plots/edge.png'>"
   ]
  },
  {
   "attachments": {},
   "cell_type": "markdown",
   "metadata": {},
   "source": [
    "<h2>Sharpen</h2>\n",
    "<img src='https://wikimedia.org/api/rest_v1/media/math/render/svg/beb8b9a493e8b9cf5deccd61bd845a59ea2e62cc' style='background-color: coral;'>"
   ]
  },
  {
   "cell_type": "code",
   "execution_count": 168,
   "metadata": {},
   "outputs": [],
   "source": [
    "sharpen = np.zeros(shape=(3,3))\n",
    "sharpen[0,1]=-1\n",
    "sharpen[1,0]=-1\n",
    "sharpen[1,2]=-1\n",
    "sharpen[2,1]=-1\n",
    "sharpen[1,1]= 5\n",
    "\n",
    "cv2_sharpen_out = cv2.filter2D(src=cv2_rbg, ddepth=None,kernel=sharpen)\n",
    "plot_util(cv2_rbg, sharpen, cv2_sharpen_out, figsize=(15,15))"
   ]
  },
  {
   "attachments": {},
   "cell_type": "markdown",
   "metadata": {},
   "source": [
    "<img src='./plots/sharpen.png'>"
   ]
  },
  {
   "attachments": {},
   "cell_type": "markdown",
   "metadata": {},
   "source": [
    "<h2>Box Blue normalized</h2>\n",
    "<img src='https://wikimedia.org/api/rest_v1/media/math/render/svg/91256bfeece3344f8602e288d445e6422c8b8a1c' style='background-color: coral;'>"
   ]
  },
  {
   "cell_type": "code",
   "execution_count": 167,
   "metadata": {},
   "outputs": [],
   "source": [
    "box_blur = np.ones(shape=(3,3))*(1/9)\n",
    "\n",
    "\n",
    "cv2_box_blur_out = cv2.filter2D(src=cv2_rbg, ddepth=None,kernel=box_blur)\n",
    "\n",
    "kernel = np.round(box_blur,decimals=2)\n",
    "plot_util(cv2_rbg, kernel, cv2_box_blur_out, figsize=(15,15))"
   ]
  },
  {
   "attachments": {},
   "cell_type": "markdown",
   "metadata": {},
   "source": [
    "<img src='./plots/box-blur.png'>"
   ]
  },
  {
   "attachments": {},
   "cell_type": "markdown",
   "metadata": {},
   "source": [
    "<h2>Gaussian blur</h2>\n",
    "<img src='https://wikimedia.org/api/rest_v1/media/math/render/svg/ca9c0da52fe7818783942b06aac9cf396ae628bf' style='background-color: coral;'>"
   ]
  },
  {
   "cell_type": "code",
   "execution_count": 166,
   "metadata": {},
   "outputs": [],
   "source": [
    "gauss_blur = np.zeros(shape=(3,3))\n",
    "gauss_blur[0,1]=2\n",
    "gauss_blur[1,0]=2\n",
    "gauss_blur[1,2]=2\n",
    "gauss_blur[2,1]=2\n",
    "gauss_blur[1,1]=4\n",
    "gauss_blur = gauss_blur*(1/16)\n",
    "\n",
    "cv2_gauss_blur_out = cv2.filter2D(src=cv2_rbg, ddepth=None, kernel=gauss_blur)\n",
    "plot_util(cv2_rbg, gauss_blur, cv2_gauss_blur_out, figsize=(15,15))"
   ]
  },
  {
   "attachments": {},
   "cell_type": "markdown",
   "metadata": {},
   "source": [
    "<img src='./plots/gauss-blur.png'>"
   ]
  },
  {
   "cell_type": "code",
   "execution_count": null,
   "metadata": {},
   "outputs": [],
   "source": []
  }
 ],
 "metadata": {
  "kernelspec": {
   "display_name": "img-env",
   "language": "python",
   "name": "python3"
  },
  "language_info": {
   "codemirror_mode": {
    "name": "ipython",
    "version": 3
   },
   "file_extension": ".py",
   "mimetype": "text/x-python",
   "name": "python",
   "nbconvert_exporter": "python",
   "pygments_lexer": "ipython3",
   "version": "3.10.11"
  },
  "orig_nbformat": 4
 },
 "nbformat": 4,
 "nbformat_minor": 2
}
